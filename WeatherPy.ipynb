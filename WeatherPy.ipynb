{
 "cells": [
  {
   "cell_type": "code",
   "execution_count": 1,
   "id": "1d0fd8c3",
   "metadata": {},
   "outputs": [],
   "source": [
    "# Import the dependencies.\n",
    "import pandas as pd\n",
    "import matplotlib.pyplot as plt\n",
    "import numpy as np"
   ]
  },
  {
   "cell_type": "code",
   "execution_count": 2,
   "id": "1aea63b7",
   "metadata": {},
   "outputs": [
    {
     "data": {
      "text/plain": [
       "<zip at 0x1fcb6b64108>"
      ]
     },
     "execution_count": 2,
     "metadata": {},
     "output_type": "execute_result"
    }
   ],
   "source": [
    "# Create a set of random latitude and longitude combinations.\n",
    "lats = np.random.uniform(low=-90.000, high=90.000, size=1500)\n",
    "lngs = np.random.uniform(low=-180.000, high=180.000, size=1500)\n",
    "lat_lngs = zip(lats, lngs)\n",
    "lat_lngs"
   ]
  },
  {
   "cell_type": "code",
   "execution_count": 3,
   "id": "07eb058d",
   "metadata": {},
   "outputs": [],
   "source": [
    "coordinates = list(lat_lngs)"
   ]
  },
  {
   "cell_type": "code",
   "execution_count": 4,
   "id": "f94c79db",
   "metadata": {},
   "outputs": [],
   "source": [
    "from citipy import citipy"
   ]
  },
  {
   "cell_type": "code",
   "execution_count": 5,
   "id": "7de39514",
   "metadata": {},
   "outputs": [
    {
     "data": {
      "text/plain": [
       "646"
      ]
     },
     "execution_count": 5,
     "metadata": {},
     "output_type": "execute_result"
    }
   ],
   "source": [
    "# Create a list for holding the cities.\n",
    "cities = []\n",
    "# Identify the nearest city for each latitude and longitude combination.\n",
    "for coordinate in coordinates:\n",
    "    city = citipy.nearest_city(coordinate[0], coordinate[1]).city_name\n",
    "\n",
    "    # If the city is unique, then we will add it to the cities list.\n",
    "    if city not in cities:\n",
    "        cities.append(city)\n",
    "# Print the city count to confirm sufficient count.\n",
    "len(cities)"
   ]
  },
  {
   "cell_type": "code",
   "execution_count": 6,
   "id": "467b188d",
   "metadata": {},
   "outputs": [],
   "source": [
    "# Import the time library and the datetime module from the datetime library \n",
    "import time\n",
    "from datetime import datetime"
   ]
  },
  {
   "cell_type": "code",
   "execution_count": 7,
   "id": "2772b472",
   "metadata": {},
   "outputs": [],
   "source": [
    "# Import the requests library.\n",
    "import requests\n",
    "# Import the API key.\n",
    "from config import weather_api_key\n",
    "# Import the datetime module from the datetime library.\n",
    "from datetime import datetime"
   ]
  },
  {
   "cell_type": "code",
   "execution_count": 8,
   "id": "02254589",
   "metadata": {},
   "outputs": [],
   "source": [
    "# Starting URL for Weather Map API Call.\n",
    "url = \"http://api.openweathermap.org/data/2.5/weather?units=Imperial&APPID=\" + weather_api_key"
   ]
  },
  {
   "cell_type": "code",
   "execution_count": null,
   "id": "97dbd786",
   "metadata": {},
   "outputs": [
    {
     "name": "stdout",
     "output_type": "stream",
     "text": [
      "Beginning Data Retrieval     \n",
      "-----------------------------\n",
      "Processing Record 1 of Set 1 | pisco\n",
      "City not found. Skipping...\n",
      "Processing Record 2 of Set 1 | iquique\n",
      "City not found. Skipping...\n",
      "Processing Record 3 of Set 1 | porto velho\n",
      "City not found. Skipping...\n",
      "Processing Record 4 of Set 1 | kapaa\n",
      "City not found. Skipping...\n",
      "Processing Record 5 of Set 1 | santa rosa\n",
      "City not found. Skipping...\n",
      "Processing Record 6 of Set 1 | ayutla\n",
      "City not found. Skipping...\n",
      "Processing Record 7 of Set 1 | vardo\n",
      "City not found. Skipping...\n",
      "Processing Record 8 of Set 1 | mataura\n",
      "City not found. Skipping...\n",
      "Processing Record 9 of Set 1 | albany\n",
      "City not found. Skipping...\n",
      "Processing Record 10 of Set 1 | vaini\n",
      "City not found. Skipping...\n",
      "Processing Record 11 of Set 1 | hofn\n",
      "City not found. Skipping...\n",
      "Processing Record 12 of Set 1 | padang\n",
      "City not found. Skipping...\n",
      "Processing Record 13 of Set 1 | rikitea\n",
      "City not found. Skipping...\n",
      "Processing Record 14 of Set 1 | banda aceh\n",
      "City not found. Skipping...\n",
      "Processing Record 15 of Set 1 | new norfolk\n",
      "City not found. Skipping...\n",
      "Processing Record 16 of Set 1 | fenoarivo\n",
      "City not found. Skipping...\n",
      "Processing Record 17 of Set 1 | ranong\n",
      "City not found. Skipping...\n",
      "Processing Record 18 of Set 1 | cabo san lucas\n",
      "City not found. Skipping...\n",
      "Processing Record 19 of Set 1 | santa cruz del sur\n",
      "City not found. Skipping...\n",
      "Processing Record 20 of Set 1 | barentsburg\n",
      "City not found. Skipping...\n",
      "Processing Record 21 of Set 1 | ushuaia\n",
      "City not found. Skipping...\n",
      "Processing Record 22 of Set 1 | sitka\n",
      "City not found. Skipping...\n",
      "Processing Record 23 of Set 1 | busselton\n",
      "City not found. Skipping...\n",
      "Processing Record 24 of Set 1 | bluff\n",
      "City not found. Skipping...\n",
      "Processing Record 25 of Set 1 | murgab\n",
      "City not found. Skipping...\n",
      "Processing Record 26 of Set 1 | codrington\n",
      "City not found. Skipping...\n",
      "Processing Record 27 of Set 1 | ardakan\n",
      "City not found. Skipping...\n",
      "Processing Record 28 of Set 1 | hamilton\n",
      "City not found. Skipping...\n",
      "Processing Record 29 of Set 1 | fortuna\n",
      "City not found. Skipping...\n",
      "Processing Record 30 of Set 1 | gamba\n",
      "City not found. Skipping...\n",
      "Processing Record 31 of Set 1 | atuona\n",
      "City not found. Skipping...\n",
      "Processing Record 32 of Set 1 | taolanaro\n",
      "City not found. Skipping...\n",
      "Processing Record 33 of Set 1 | lebu\n",
      "City not found. Skipping...\n",
      "Processing Record 34 of Set 1 | hilo\n",
      "City not found. Skipping...\n",
      "Processing Record 35 of Set 1 | bambous virieux\n",
      "City not found. Skipping...\n",
      "Processing Record 36 of Set 1 | khatanga\n",
      "City not found. Skipping...\n",
      "Processing Record 37 of Set 1 | attawapiskat\n",
      "City not found. Skipping...\n",
      "Processing Record 38 of Set 1 | hualmay\n",
      "City not found. Skipping...\n",
      "Processing Record 39 of Set 1 | enshi\n",
      "City not found. Skipping...\n",
      "Processing Record 40 of Set 1 | buchanan\n",
      "City not found. Skipping...\n",
      "Processing Record 41 of Set 1 | jamestown\n",
      "City not found. Skipping...\n",
      "Processing Record 42 of Set 1 | brae\n",
      "City not found. Skipping...\n",
      "Processing Record 43 of Set 1 | armacao dos buzios\n",
      "City not found. Skipping...\n",
      "Processing Record 44 of Set 1 | verkhniy rohachyk\n",
      "City not found. Skipping...\n",
      "Processing Record 45 of Set 1 | eisenberg\n",
      "City not found. Skipping...\n",
      "Processing Record 46 of Set 1 | hobart\n",
      "City not found. Skipping...\n",
      "Processing Record 47 of Set 1 | bredasdorp\n",
      "City not found. Skipping...\n",
      "Processing Record 48 of Set 1 | kenai\n",
      "City not found. Skipping...\n",
      "Processing Record 49 of Set 1 | castro\n",
      "City not found. Skipping...\n",
      "Processing Record 50 of Set 1 | yellowknife\n",
      "City not found. Skipping...\n"
     ]
    }
   ],
   "source": [
    "# Create an empty list to hold the weather data.\n",
    "city_data = []\n",
    "# Print the beginning of the logging.\n",
    "print(\"Beginning Data Retrieval     \")\n",
    "print(\"-----------------------------\")\n",
    "\n",
    "# Create counters.\n",
    "record_count = 1\n",
    "set_count = 1\n",
    "\n",
    "# Loop through all the cities in the list.\n",
    "for i, city in enumerate(cities):\n",
    "\n",
    "    # Group cities in sets of 50 for logging purposes.\n",
    "    if (i % 50 == 0 and i >= 50):\n",
    "        set_count += 1\n",
    "        record_count = 1\n",
    "        time.sleep(60)\n",
    "\n",
    "    # Create endpoint URL with each city.\n",
    "    city_url = \"url\" + \"&q=\" + city.replace(\" \",\"+\")\n",
    "\n",
    "    # Log the URL, record, and set numbers and the city.\n",
    "    print(f\"Processing Record {record_count} of Set {set_count} | {city}\")\n",
    "    # Add 1 to the record count.\n",
    "    record_count += 1\n",
    "    \n",
    "     # Run an API request for each of the cities.\n",
    "    try:\n",
    "        # Parse the JSON and retrieve data.\n",
    "        city_weather = requests.get(city_url).json()\n",
    "        # Parse out the needed data.\n",
    "        city_lat = city_weather[\"coord\"][\"lat\"]\n",
    "        city_lng = city_weather[\"coord\"][\"lon\"]\n",
    "        city_max_temp = city_weather[\"main\"][\"temp_max\"]\n",
    "        city_humidity = city_weather[\"main\"][\"humidity\"]\n",
    "        city_clouds = city_weather[\"clouds\"][\"all\"]\n",
    "        city_wind = city_weather[\"wind\"][\"speed\"]\n",
    "        city_country = city_weather[\"sys\"][\"country\"]\n",
    "        # Convert the date to ISO standard.\n",
    "        city_date = datetime.utcfromtimestamp(city_weather[\"dt\"]).strftime('%Y-%m-%d %H:%M:%S')\n",
    "        # Append the city information into city_data list.\n",
    "        city_data.append({\"City\": city.title(),\n",
    "                          \"Lat\": city_lat,\n",
    "                          \"Lng\": city_lng,\n",
    "                          \"Max Temp\": city_max_temp,\n",
    "                          \"Humidity\": city_humidity,\n",
    "                          \"Cloudiness\": city_clouds,\n",
    "                          \"Wind Speed\": city_wind,\n",
    "                          \"Country\": city_country,\n",
    "                          \"Date\": city_date})\n",
    "\n",
    "# If an error is experienced, skip the city.\n",
    "    except:\n",
    "        print(\"City not found. Skipping...\")\n",
    "        pass\n",
    "\n",
    "# Indicate that Data Loading is complete.\n",
    "print(\"-----------------------------\")\n",
    "print(\"Data Retrieval Complete      \")\n",
    "print(\"-----------------------------\")"
   ]
  },
  {
   "cell_type": "code",
   "execution_count": null,
   "id": "300384ff",
   "metadata": {},
   "outputs": [],
   "source": [
    "# Convert the array of dictionaries to a Pandas DataFrame.\n",
    "city_data_df = pd.DataFrame(city_data)\n",
    "city_data_df.head(10)"
   ]
  },
  {
   "cell_type": "code",
   "execution_count": null,
   "id": "df555039",
   "metadata": {},
   "outputs": [],
   "source": [
    "new_column_order = [\"City\", \"Country\", \"Date\", \"Lat\", \"Lng\", \"Max Temp\", \"Humidity\", \"Cloudiness\", \"Wind Speed\"]\n",
    "city_data_df = city_data_df[new_column_order]\n",
    "city_data_df.head(10)"
   ]
  },
  {
   "cell_type": "code",
   "execution_count": null,
   "id": "7c7a2d25",
   "metadata": {},
   "outputs": [],
   "source": [
    "# Create the output file (CSV).\n",
    "output_data_file = \"weather_data/cities.csv\"\n",
    "# Export the City_Data into a CSV.\n",
    "city_data_df.to_csv(output_data_file, index_label=\"City_ID\")"
   ]
  }
 ],
 "metadata": {
  "kernelspec": {
   "display_name": "PythonData",
   "language": "python",
   "name": "pythondata"
  },
  "language_info": {
   "codemirror_mode": {
    "name": "ipython",
    "version": 3
   },
   "file_extension": ".py",
   "mimetype": "text/x-python",
   "name": "python",
   "nbconvert_exporter": "python",
   "pygments_lexer": "ipython3",
   "version": "3.7.13"
  }
 },
 "nbformat": 4,
 "nbformat_minor": 5
}
